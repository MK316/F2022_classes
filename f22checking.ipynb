{
  "cells": [
    {
      "cell_type": "markdown",
      "metadata": {
        "id": "view-in-github",
        "colab_type": "text"
      },
      "source": [
        "<a href=\"https://colab.research.google.com/github/MK316/F2022_classes/blob/main/f22checking.ipynb\" target=\"_parent\"><img src=\"https://colab.research.google.com/assets/colab-badge.svg\" alt=\"Open In Colab\"/></a>"
      ]
    },
    {
      "cell_type": "code",
      "execution_count": null,
      "metadata": {
        "id": "3iQmIzCngUuP"
      },
      "outputs": [],
      "source": [
        "!pip install gradio"
      ]
    },
    {
      "cell_type": "code",
      "execution_count": null,
      "metadata": {
        "colab": {
          "base_uri": "https://localhost:8080/"
        },
        "id": "NR2i6GWUpskE",
        "outputId": "04514890-b3dc-4e8c-af28-7b8e5e82ff28"
      },
      "outputs": [
        {
          "name": "stdout",
          "output_type": "stream",
          "text": [
            "Your ID (10 digits)2021089765\n",
            "Your phone number01065180024\n",
            "Your email ID without @naver.comnodoor0523\n",
            "3086269789\n"
          ]
        }
      ],
      "source": [
        "import pandas as pd\n",
        "\n",
        "data = pd.read_csv(\"/content/f22phon_total.csv\")\n",
        "rid = input(\"Your ID (10 digits)\")\n",
        "phone = input(\"Your phone number\")\n",
        "email = input(\"Your email ID without @naver.com\")\n",
        "\n",
        "pw = int(rid) + int(phone)\n",
        "print(pw)"
      ]
    },
    {
      "cell_type": "code",
      "execution_count": null,
      "metadata": {
        "colab": {
          "base_uri": "https://localhost:8080/"
        },
        "id": "I7U9oE8Oslwy",
        "outputId": "f06a1abc-a6cf-4e71-b413-073dafb13c23"
      },
      "outputs": [
        {
          "data": {
            "text/plain": [
              "24.0"
            ]
          },
          "execution_count": 33,
          "metadata": {},
          "output_type": "execute_result"
        }
      ],
      "source": [
        "data['Final'][4]"
      ]
    },
    {
      "cell_type": "code",
      "execution_count": null,
      "metadata": {
        "colab": {
          "base_uri": "https://localhost:8080/",
          "height": 701
        },
        "id": "rdRHBYeggNtG",
        "outputId": "a5c542f0-18c4-456c-a33d-50a8ea11dde0"
      },
      "outputs": [
        {
          "name": "stdout",
          "output_type": "stream",
          "text": [
            "Colab notebook detected. This cell will run indefinitely so that you can see errors and logs. To turn off, set debug=False in launch().\n",
            "\n",
            "Setting up a public link... we have recently upgraded the way public links are generated. If you encounter any problems, please report the issue and downgrade to gradio version 3.13.0\n",
            ".\n",
            "Running on public URL: https://0cb4d2e7-7292-40d3.gradio.live\n",
            "\n",
            "This share link expires in 72 hours. For free permanent hosting and GPU upgrades (NEW!), check out Spaces: https://huggingface.co/spaces\n"
          ]
        },
        {
          "data": {
            "text/html": [
              "<div><iframe src=\"https://0cb4d2e7-7292-40d3.gradio.live\" width=\"100%\" height=\"500\" allow=\"autoplay; camera; microphone; clipboard-read; clipboard-write;\" frameborder=\"0\" allowfullscreen></iframe></div>"
            ],
            "text/plain": [
              "<IPython.core.display.HTML object>"
            ]
          },
          "metadata": {},
          "output_type": "display_data"
        },
        {
          "name": "stdout",
          "output_type": "stream",
          "text": [
            "Keyboard interruption in main thread... closing server.\n",
            "Killing tunnel 127.0.0.1:7869 <> https://0cb4d2e7-7292-40d3.gradio.live\n"
          ]
        },
        {
          "data": {
            "text/plain": []
          },
          "execution_count": 29,
          "metadata": {},
          "output_type": "execute_result"
        }
      ],
      "source": [
        "import gradio as gr\n",
        "import pandas as pd\n",
        "\n",
        "# Write your name, student ID number, phone number (without - ), and email ID (e.g., excluding @naver.com)\n",
        "def greet(name, id, phone, email):\n",
        "    salutation = \"Hello,\"\n",
        "    greeting = f\"{salutation} {name}. \\n Here's your phonetics grades.\"\n",
        "    result = \"54\"\n",
        "    return greeting, result\n",
        "\n",
        "demo = gr.Interface(fn=greet, \n",
        "                    inputs=[\"text\",\"number\",\"number\",\"text\"], \n",
        "                    outputs=[\"text\",\"number\"])\n",
        "\n",
        "demo.launch(share=True, debug=True)"
      ]
    },
    {
      "cell_type": "code",
      "execution_count": 58,
      "metadata": {
        "colab": {
          "base_uri": "https://localhost:8080/",
          "height": 1000
        },
        "id": "2idA97iBg3EY",
        "outputId": "3d2f35d5-80c7-4ac9-dc33-085a9e271513"
      },
      "outputs": [
        {
          "metadata": {
            "tags": null
          },
          "name": "stderr",
          "output_type": "stream",
          "text": [
            "/usr/local/lib/python3.8/dist-packages/gradio/inputs.py:58: UserWarning: Usage of gradio.inputs is deprecated, and will not be supported in the future, please import your component from gradio.components\n",
            "  warnings.warn(\n",
            "/usr/local/lib/python3.8/dist-packages/gradio/deprecation.py:40: UserWarning: `optional` parameter is deprecated, and it has no effect\n",
            "  warnings.warn(value)\n"
          ]
        },
        {
          "metadata": {
            "tags": null
          },
          "name": "stdout",
          "output_type": "stream",
          "text": [
            "Colab notebook detected. This cell will run indefinitely so that you can see errors and logs. To turn off, set debug=False in launch().\n",
            "\n",
            "Setting up a public link... we have recently upgraded the way public links are generated. If you encounter any problems, please report the issue and downgrade to gradio version 3.13.0\n",
            ".\n",
            "Running on public URL: https://15dd4a6e-b484-4ae6.gradio.live\n",
            "\n",
            "This share link expires in 72 hours. For free permanent hosting and GPU upgrades (NEW!), check out Spaces: https://huggingface.co/spaces\n"
          ]
        },
        {
          "data": {
            "text/html": [
              "<div><iframe src=\"https://15dd4a6e-b484-4ae6.gradio.live\" width=\"100%\" height=\"500\" allow=\"autoplay; camera; microphone; clipboard-read; clipboard-write;\" frameborder=\"0\" allowfullscreen></iframe></div>"
            ],
            "text/plain": [
              "<IPython.core.display.HTML object>"
            ]
          },
          "metadata": {},
          "output_type": "display_data"
        },
        {
          "metadata": {
            "tags": null
          },
          "name": "stderr",
          "output_type": "stream",
          "text": [
            "Traceback (most recent call last):\n",
            "  File \"/usr/local/lib/python3.8/dist-packages/gradio/routes.py\", line 321, in run_predict\n",
            "    output = await app.blocks.process_api(\n",
            "  File \"/usr/local/lib/python3.8/dist-packages/gradio/blocks.py\", line 1006, in process_api\n",
            "    result = await self.call_function(fn_index, inputs, iterator, request)\n",
            "  File \"/usr/local/lib/python3.8/dist-packages/gradio/blocks.py\", line 847, in call_function\n",
            "    prediction = await anyio.to_thread.run_sync(\n",
            "  File \"/usr/local/lib/python3.8/dist-packages/anyio/to_thread.py\", line 31, in run_sync\n",
            "    return await get_asynclib().run_sync_in_worker_thread(\n",
            "  File \"/usr/local/lib/python3.8/dist-packages/anyio/_backends/_asyncio.py\", line 937, in run_sync_in_worker_thread\n",
            "    return await future\n",
            "  File \"/usr/local/lib/python3.8/dist-packages/anyio/_backends/_asyncio.py\", line 867, in run\n",
            "    result = context.run(func, *args)\n",
            "  File \"<ipython-input-58-49b10072667e>\", line 7, in greet\n",
            "    sid = data['SID'][pw]\n",
            "  File \"/usr/local/lib/python3.8/dist-packages/pandas/core/series.py\", line 942, in __getitem__\n",
            "    return self._get_value(key)\n",
            "  File \"/usr/local/lib/python3.8/dist-packages/pandas/core/series.py\", line 1051, in _get_value\n",
            "    loc = self.index.get_loc(label)\n",
            "  File \"/usr/local/lib/python3.8/dist-packages/pandas/core/indexes/range.py\", line 388, in get_loc\n",
            "    raise KeyError(key)\n",
            "KeyError: None\n"
          ]
        },
        {
          "output_type": "stream",
          "name": "stdout",
          "text": [
            "Keyboard interruption in main thread... closing server.\n",
            "Killing tunnel 127.0.0.1:7869 <> https://15dd4a6e-b484-4ae6.gradio.live\n"
          ]
        },
        {
          "output_type": "execute_result",
          "data": {
            "text/plain": []
          },
          "metadata": {},
          "execution_count": 58
        }
      ],
      "source": [
        "import gradio as gr\n",
        "import pandas as pd\n",
        "\n",
        "# Write your name, student ID number, phone number (without - ), and email ID (e.g., excluding @naver.com)\n",
        "def greet(pw):\n",
        "    data = pd.read_csv(\"/content/f22total.csv\")\n",
        "    sid = data['SID'][pw]\n",
        "    phon = data['Phone'][pw]\n",
        "    group = data['Group'][pw]\n",
        "    att = data['Attendance'][pw]\n",
        "    mid = data['Midterm'][pw]\n",
        "    mid25p = data['Mid25p'][pw]\n",
        "    fin = data['Final'][pw]\n",
        "    fin35p = data['Fin35p'][pw]\n",
        "    trans = data['Transcription'][pw]\n",
        "    assign = data['Assignment'][pw]\n",
        "    total = data['Total'][pw]\n",
        "    rank = data['Rank'][pw]\n",
        "    return sid, phon, group, att, mid, mid25p, fin, fin35p, assign, trans, total, rank\n",
        "\n",
        "demo = gr.Interface(fn=greet, \n",
        "                    inputs=gr.inputs.Number(label = \"ID\"),\n",
        "                    outputs=[gr.Number(label = \"Your ID\"),\n",
        "                             gr.Number(label = \"Your Phone Number\"),\n",
        "                             gr.Number(label = \"Your group\"),\n",
        "                             gr.Number(label = \"Attendance(10)\"),\n",
        "                             gr.Number(label=\"Midterm\"), \n",
        "                             gr.Number(label=\"Mid(25%)\"),\n",
        "                             gr.Number(label=\"Final\"),\n",
        "                             gr.Number(label=\"Fin(35%)\"), \n",
        "                             gr.Number(label=\"Assignment(20%)\"),\n",
        "                             gr.Number(label=\"Transcription(10%)\"),\n",
        "                             gr.Number(label=\"Total\"),\n",
        "                             gr.Number(label=\"Rank (out of 29 students)\")])\n",
        "\n",
        "demo.launch(share=True, debug=True)"
      ]
    }
  ],
  "metadata": {
    "colab": {
      "provenance": [],
      "authorship_tag": "ABX9TyPahTnEiZHLmlmMUqneoBwT",
      "include_colab_link": true
    },
    "kernelspec": {
      "display_name": "Python 3",
      "name": "python3"
    },
    "language_info": {
      "name": "python"
    }
  },
  "nbformat": 4,
  "nbformat_minor": 0
}